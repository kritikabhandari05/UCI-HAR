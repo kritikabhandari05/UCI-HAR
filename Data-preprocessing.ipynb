{
 "cells": [
  {
   "cell_type": "markdown",
   "metadata": {},
   "source": [
    "# UCI - Dataset - Preprocessing"
   ]
  },
  {
   "cell_type": "markdown",
   "metadata": {},
   "source": [
    "### Import "
   ]
  },
  {
   "cell_type": "code",
   "execution_count": 7,
   "metadata": {},
   "outputs": [
    {
     "name": "stdout",
     "output_type": "stream",
     "text": [
      "Requirement already satisfied: scikit-learn in c:\\python312\\lib\\site-packages (1.7.0)\n",
      "Requirement already satisfied: numpy>=1.22.0 in c:\\python312\\lib\\site-packages (from scikit-learn) (2.2.6)\n",
      "Requirement already satisfied: scipy>=1.8.0 in c:\\python312\\lib\\site-packages (from scikit-learn) (1.15.3)\n",
      "Requirement already satisfied: joblib>=1.2.0 in c:\\python312\\lib\\site-packages (from scikit-learn) (1.5.1)\n",
      "Requirement already satisfied: threadpoolctl>=3.1.0 in c:\\python312\\lib\\site-packages (from scikit-learn) (3.6.0)\n"
     ]
    },
    {
     "name": "stderr",
     "output_type": "stream",
     "text": [
      "\n",
      "[notice] A new release of pip is available: 24.0 -> 25.1.1\n",
      "[notice] To update, run: python.exe -m pip install --upgrade pip\n"
     ]
    }
   ],
   "source": [
    "!pip install scikit-learn"
   ]
  },
  {
   "cell_type": "code",
   "execution_count": 6,
   "metadata": {},
   "outputs": [
    {
     "name": "stdout",
     "output_type": "stream",
     "text": [
      "^C\n"
     ]
    },
    {
     "name": "stdout",
     "output_type": "stream",
     "text": [
      "Collecting scikit-learn\n",
      "  Downloading scikit_learn-1.7.0-cp312-cp312-win_amd64.whl.metadata (14 kB)\n",
      "Requirement already satisfied: numpy>=1.22.0 in c:\\python312\\lib\\site-packages (from scikit-learn) (2.2.6)\n",
      "Requirement already satisfied: scipy>=1.8.0 in c:\\python312\\lib\\site-packages (from scikit-learn) (1.15.3)\n",
      "Collecting joblib>=1.2.0 (from scikit-learn)\n",
      "  Downloading joblib-1.5.1-py3-none-any.whl.metadata (5.6 kB)\n",
      "Collecting threadpoolctl>=3.1.0 (from scikit-learn)\n",
      "  Downloading threadpoolctl-3.6.0-py3-none-any.whl.metadata (13 kB)\n",
      "Downloading scikit_learn-1.7.0-cp312-cp312-win_amd64.whl (10.7 MB)\n",
      "   ---------------------------------------- 0.0/10.7 MB ? eta -:--:--\n",
      "   ---------------------------------------- 0.1/10.7 MB 2.2 MB/s eta 0:00:05\n",
      "   - -------------------------------------- 0.3/10.7 MB 2.8 MB/s eta 0:00:04\n",
      "   - -------------------------------------- 0.5/10.7 MB 3.7 MB/s eta 0:00:03\n",
      "   -- ------------------------------------- 0.7/10.7 MB 4.0 MB/s eta 0:00:03\n",
      "   --- ------------------------------------ 0.8/10.7 MB 3.7 MB/s eta 0:00:03\n",
      "   --- ------------------------------------ 1.0/10.7 MB 4.1 MB/s eta 0:00:03\n",
      "   ---- ----------------------------------- 1.2/10.7 MB 3.6 MB/s eta 0:00:03\n",
      "   ---- ----------------------------------- 1.3/10.7 MB 3.7 MB/s eta 0:00:03\n",
      "   ----- ---------------------------------- 1.4/10.7 MB 3.5 MB/s eta 0:00:03\n",
      "   ----- ---------------------------------- 1.5/10.7 MB 3.4 MB/s eta 0:00:03\n",
      "   ------ --------------------------------- 1.6/10.7 MB 3.3 MB/s eta 0:00:03\n",
      "   ------ --------------------------------- 1.7/10.7 MB 3.0 MB/s eta 0:00:03\n",
      "   ------ --------------------------------- 1.8/10.7 MB 3.1 MB/s eta 0:00:03\n",
      "   ------- -------------------------------- 1.9/10.7 MB 2.9 MB/s eta 0:00:03\n",
      "   ------- -------------------------------- 1.9/10.7 MB 2.8 MB/s eta 0:00:04\n",
      "   ------- -------------------------------- 1.9/10.7 MB 2.8 MB/s eta 0:00:04\n",
      "   ------- -------------------------------- 1.9/10.7 MB 2.8 MB/s eta 0:00:04\n",
      "   ------- -------------------------------- 2.0/10.7 MB 2.3 MB/s eta 0:00:04\n",
      "   -------- ------------------------------- 2.3/10.7 MB 2.5 MB/s eta 0:00:04\n",
      "   --------- ------------------------------ 2.4/10.7 MB 2.6 MB/s eta 0:00:04\n",
      "   ---------- ----------------------------- 2.7/10.7 MB 2.7 MB/s eta 0:00:03\n",
      "   ---------- ----------------------------- 2.9/10.7 MB 2.7 MB/s eta 0:00:03\n",
      "   ----------- ---------------------------- 3.2/10.7 MB 2.9 MB/s eta 0:00:03\n",
      "   ------------ --------------------------- 3.2/10.7 MB 2.9 MB/s eta 0:00:03\n",
      "   ------------ --------------------------- 3.2/10.7 MB 2.9 MB/s eta 0:00:03\n",
      "   ------------ --------------------------- 3.2/10.7 MB 2.9 MB/s eta 0:00:03\n",
      "   ------------ --------------------------- 3.3/10.7 MB 2.6 MB/s eta 0:00:03\n",
      "   ------------ --------------------------- 3.3/10.7 MB 2.5 MB/s eta 0:00:03\n",
      "   ------------- -------------------------- 3.5/10.7 MB 2.5 MB/s eta 0:00:03\n",
      "   ------------- -------------------------- 3.6/10.7 MB 2.5 MB/s eta 0:00:03\n",
      "   ------------- -------------------------- 3.6/10.7 MB 2.5 MB/s eta 0:00:03\n",
      "   -------------- ------------------------- 3.8/10.7 MB 2.5 MB/s eta 0:00:03\n",
      "   -------------- ------------------------- 3.8/10.7 MB 2.5 MB/s eta 0:00:03\n",
      "   -------------- ------------------------- 3.9/10.7 MB 2.5 MB/s eta 0:00:03\n",
      "   --------------- ------------------------ 4.0/10.7 MB 2.5 MB/s eta 0:00:03\n",
      "   --------------- ------------------------ 4.1/10.7 MB 2.5 MB/s eta 0:00:03\n",
      "   ---------------- ----------------------- 4.3/10.7 MB 2.5 MB/s eta 0:00:03\n",
      "   ---------------- ----------------------- 4.3/10.7 MB 2.5 MB/s eta 0:00:03\n",
      "   ---------------- ----------------------- 4.5/10.7 MB 2.5 MB/s eta 0:00:03\n",
      "   ----------------- ---------------------- 4.6/10.7 MB 2.5 MB/s eta 0:00:03\n",
      "   ----------------- ---------------------- 4.7/10.7 MB 2.5 MB/s eta 0:00:03\n",
      "   ------------------ --------------------- 4.8/10.7 MB 2.5 MB/s eta 0:00:03\n",
      "   ------------------ --------------------- 5.0/10.7 MB 2.5 MB/s eta 0:00:03\n",
      "   ------------------- -------------------- 5.1/10.7 MB 2.5 MB/s eta 0:00:03\n",
      "   ------------------- -------------------- 5.3/10.7 MB 2.5 MB/s eta 0:00:03\n",
      "   -------------------- ------------------- 5.4/10.7 MB 2.5 MB/s eta 0:00:03\n",
      "   -------------------- ------------------- 5.5/10.7 MB 2.6 MB/s eta 0:00:03\n",
      "   --------------------- ------------------ 5.7/10.7 MB 2.6 MB/s eta 0:00:02\n",
      "   --------------------- ------------------ 5.8/10.7 MB 2.6 MB/s eta 0:00:02\n",
      "   ---------------------- ----------------- 5.9/10.7 MB 2.6 MB/s eta 0:00:02\n",
      "   ---------------------- ----------------- 6.1/10.7 MB 2.6 MB/s eta 0:00:02\n",
      "   ----------------------- ---------------- 6.2/10.7 MB 2.6 MB/s eta 0:00:02\n",
      "   ----------------------- ---------------- 6.3/10.7 MB 2.6 MB/s eta 0:00:02\n",
      "   ------------------------ --------------- 6.5/10.7 MB 2.6 MB/s eta 0:00:02\n",
      "   ------------------------ --------------- 6.6/10.7 MB 2.6 MB/s eta 0:00:02\n",
      "   ------------------------- -------------- 6.8/10.7 MB 2.7 MB/s eta 0:00:02\n",
      "   -------------------------- ------------- 6.9/10.7 MB 2.7 MB/s eta 0:00:02\n",
      "   -------------------------- ------------- 7.1/10.7 MB 2.7 MB/s eta 0:00:02\n",
      "   --------------------------- ------------ 7.3/10.7 MB 2.7 MB/s eta 0:00:02\n",
      "   --------------------------- ------------ 7.4/10.7 MB 2.7 MB/s eta 0:00:02\n",
      "   ---------------------------- ----------- 7.6/10.7 MB 2.7 MB/s eta 0:00:02\n",
      "   ---------------------------- ----------- 7.7/10.7 MB 2.7 MB/s eta 0:00:02\n",
      "   ----------------------------- ---------- 7.8/10.7 MB 2.7 MB/s eta 0:00:02\n",
      "   ----------------------------- ---------- 8.0/10.7 MB 2.7 MB/s eta 0:00:01\n",
      "   ------------------------------ --------- 8.1/10.7 MB 2.7 MB/s eta 0:00:01\n",
      "   ------------------------------ --------- 8.2/10.7 MB 2.8 MB/s eta 0:00:01\n",
      "   ------------------------------- -------- 8.4/10.7 MB 2.8 MB/s eta 0:00:01\n",
      "   ------------------------------- -------- 8.5/10.7 MB 2.8 MB/s eta 0:00:01\n",
      "   -------------------------------- ------- 8.7/10.7 MB 2.8 MB/s eta 0:00:01\n",
      "   --------------------------------- ------ 8.9/10.7 MB 2.8 MB/s eta 0:00:01\n",
      "   --------------------------------- ------ 9.0/10.7 MB 2.8 MB/s eta 0:00:01\n",
      "   ---------------------------------- ----- 9.2/10.7 MB 2.8 MB/s eta 0:00:01\n",
      "   ----------------------------------- ---- 9.4/10.7 MB 2.9 MB/s eta 0:00:01\n",
      "   ----------------------------------- ---- 9.5/10.7 MB 2.9 MB/s eta 0:00:01\n",
      "   ------------------------------------ --- 9.7/10.7 MB 2.9 MB/s eta 0:00:01\n",
      "   ------------------------------------- -- 9.9/10.7 MB 2.9 MB/s eta 0:00:01\n",
      "   ------------------------------------- -- 10.1/10.7 MB 2.9 MB/s eta 0:00:01\n",
      "   -------------------------------------- - 10.3/10.7 MB 2.9 MB/s eta 0:00:01\n",
      "   ---------------------------------------  10.5/10.7 MB 2.9 MB/s eta 0:00:01\n",
      "   ---------------------------------------- 10.7/10.7 MB 2.9 MB/s eta 0:00:00\n",
      "Downloading joblib-1.5.1-py3-none-any.whl (307 kB)\n",
      "   ---------------------------------------- 0.0/307.7 kB ? eta -:--:--\n",
      "   ----------------------- ---------------- 184.3/307.7 kB 5.4 MB/s eta 0:00:01\n",
      "   ---------------------------------------- 307.7/307.7 kB 4.7 MB/s eta 0:00:00\n",
      "Downloading threadpoolctl-3.6.0-py3-none-any.whl (18 kB)\n",
      "Installing collected packages: threadpoolctl, joblib, scikit-learn\n",
      "Successfully installed joblib-1.5.1 scikit-learn-1.7.0 threadpoolctl-3.6.0\n"
     ]
    },
    {
     "name": "stderr",
     "output_type": "stream",
     "text": [
      "\n",
      "[notice] A new release of pip is available: 24.0 -> 25.1.1\n",
      "[notice] To update, run: python.exe -m pip install --upgrade pip\n"
     ]
    }
   ],
   "source": [
    "    !pip install scikit-learn"
   ]
  },
  {
   "cell_type": "code",
   "execution_count": 4,
   "metadata": {},
   "outputs": [],
   "source": [
    "import numpy as np\n",
    "import pandas as pd\n",
    "import matplotlib.pyplot as plt\n",
    "import seaborn as sns\n",
    "import sklearn"
   ]
  },
  {
   "cell_type": "markdown",
   "metadata": {},
   "source": [
    "## Data Fetching and Cleaning"
   ]
  },
  {
   "cell_type": "code",
   "execution_count": 5,
   "metadata": {},
   "outputs": [
    {
     "name": "stdout",
     "output_type": "stream",
     "text": [
      "No of Features: 561\n"
     ]
    }
   ],
   "source": [
    "features = []\n",
    "with open('UCI HAR Dataset/UCI HAR Dataset/features.txt') as f:\n",
    "    features = [line.split()[1] for line in f.readlines()]\n",
    "\n",
    "print('No of Features: {}'.format(len(features)))\n"
   ]
  },
  {
   "cell_type": "markdown",
   "metadata": {},
   "source": [
    "### Duplicate features:"
   ]
  },
  {
   "cell_type": "code",
   "execution_count": 6,
   "metadata": {},
   "outputs": [
    {
     "data": {
      "text/plain": [
       "561"
      ]
     },
     "execution_count": 6,
     "metadata": {},
     "output_type": "execute_result"
    }
   ],
   "source": [
    "seen = set()\n",
    "uniq_features = []\n",
    "for idx, x in enumerate(features):\n",
    "    if x not in seen:\n",
    "        uniq_features.append(x)\n",
    "        seen.add(x)\n",
    "    elif x + 'n' not in seen:\n",
    "        uniq_features.append(x + 'n')\n",
    "        seen.add(x + 'n')\n",
    "    else:\n",
    "        uniq_features.append(x + 'nn')\n",
    "        seen.add(x + 'nn')\n",
    "len(uniq_features)"
   ]
  },
  {
   "cell_type": "markdown",
   "metadata": {},
   "source": [
    "### Obtain the train data"
   ]
  },
  {
   "cell_type": "code",
   "execution_count": 9,
   "metadata": {
    "scrolled": true
   },
   "outputs": [
    {
     "name": "stderr",
     "output_type": "stream",
     "text": [
      "C:\\Users\\HP\\AppData\\Local\\Temp\\ipykernel_18924\\1061721677.py:7: FutureWarning: The 'delim_whitespace' keyword in pd.read_csv is deprecated and will be removed in a future version. Use ``sep='\\s+'`` instead\n",
      "  X_train = pd.read_csv(\n"
     ]
    },
    {
     "data": {
      "text/html": [
       "<div>\n",
       "<style scoped>\n",
       "    .dataframe tbody tr th:only-of-type {\n",
       "        vertical-align: middle;\n",
       "    }\n",
       "\n",
       "    .dataframe tbody tr th {\n",
       "        vertical-align: top;\n",
       "    }\n",
       "\n",
       "    .dataframe thead th {\n",
       "        text-align: right;\n",
       "    }\n",
       "</style>\n",
       "<table border=\"1\" class=\"dataframe\">\n",
       "  <thead>\n",
       "    <tr style=\"text-align: right;\">\n",
       "      <th></th>\n",
       "      <th>tBodyAcc-mean()-X</th>\n",
       "      <th>tBodyAcc-mean()-Y</th>\n",
       "      <th>tBodyAcc-mean()-Z</th>\n",
       "      <th>tBodyAcc-std()-X</th>\n",
       "      <th>tBodyAcc-std()-Y</th>\n",
       "      <th>tBodyAcc-std()-Z</th>\n",
       "      <th>tBodyAcc-mad()-X</th>\n",
       "      <th>tBodyAcc-mad()-Y</th>\n",
       "      <th>tBodyAcc-mad()-Z</th>\n",
       "      <th>tBodyAcc-max()-X</th>\n",
       "      <th>...</th>\n",
       "      <th>angle(tBodyAccMean,gravity)</th>\n",
       "      <th>angle(tBodyAccJerkMean),gravityMean)</th>\n",
       "      <th>angle(tBodyGyroMean,gravityMean)</th>\n",
       "      <th>angle(tBodyGyroJerkMean,gravityMean)</th>\n",
       "      <th>angle(X,gravityMean)</th>\n",
       "      <th>angle(Y,gravityMean)</th>\n",
       "      <th>angle(Z,gravityMean)</th>\n",
       "      <th>subject</th>\n",
       "      <th>Activity</th>\n",
       "      <th>ActivityName</th>\n",
       "    </tr>\n",
       "  </thead>\n",
       "  <tbody>\n",
       "    <tr>\n",
       "      <th>1214</th>\n",
       "      <td>0.270805</td>\n",
       "      <td>-0.017066</td>\n",
       "      <td>-0.110333</td>\n",
       "      <td>-0.963226</td>\n",
       "      <td>-0.970369</td>\n",
       "      <td>-0.972238</td>\n",
       "      <td>-0.964375</td>\n",
       "      <td>-0.970937</td>\n",
       "      <td>-0.978272</td>\n",
       "      <td>-0.922638</td>\n",
       "      <td>...</td>\n",
       "      <td>0.092131</td>\n",
       "      <td>-0.08071</td>\n",
       "      <td>-0.215048</td>\n",
       "      <td>0.013585</td>\n",
       "      <td>0.623474</td>\n",
       "      <td>-0.697463</td>\n",
       "      <td>-0.301014</td>\n",
       "      <td>6</td>\n",
       "      <td>6</td>\n",
       "      <td>LAYING</td>\n",
       "    </tr>\n",
       "  </tbody>\n",
       "</table>\n",
       "<p>1 rows × 564 columns</p>\n",
       "</div>"
      ],
      "text/plain": [
       "      tBodyAcc-mean()-X  tBodyAcc-mean()-Y  tBodyAcc-mean()-Z  \\\n",
       "1214           0.270805          -0.017066          -0.110333   \n",
       "\n",
       "      tBodyAcc-std()-X  tBodyAcc-std()-Y  tBodyAcc-std()-Z  tBodyAcc-mad()-X  \\\n",
       "1214         -0.963226         -0.970369         -0.972238         -0.964375   \n",
       "\n",
       "      tBodyAcc-mad()-Y  tBodyAcc-mad()-Z  tBodyAcc-max()-X  ...  \\\n",
       "1214         -0.970937         -0.978272         -0.922638  ...   \n",
       "\n",
       "      angle(tBodyAccMean,gravity)  angle(tBodyAccJerkMean),gravityMean)  \\\n",
       "1214                     0.092131                              -0.08071   \n",
       "\n",
       "      angle(tBodyGyroMean,gravityMean)  angle(tBodyGyroJerkMean,gravityMean)  \\\n",
       "1214                         -0.215048                              0.013585   \n",
       "\n",
       "      angle(X,gravityMean)  angle(Y,gravityMean)  angle(Z,gravityMean)  \\\n",
       "1214              0.623474             -0.697463             -0.301014   \n",
       "\n",
       "      subject  Activity  ActivityName  \n",
       "1214        6         6        LAYING  \n",
       "\n",
       "[1 rows x 564 columns]"
      ]
     },
     "execution_count": 9,
     "metadata": {},
     "output_type": "execute_result"
    }
   ],
   "source": [
    "import pandas as pd\n",
    "\n",
    "# Load feature names (assumes you've already created uniq_features correctly)\n",
    "# uniq_features = [...]\n",
    "\n",
    "# ✅ Load the main feature data\n",
    "X_train = pd.read_csv(\n",
    "    'UCI HAR Dataset/UCI HAR Dataset/train/X_train.txt',\n",
    "    delim_whitespace=True,\n",
    "    header=None,\n",
    "    names=uniq_features\n",
    ")\n",
    "\n",
    "# ✅ Load the subject identifiers as a Series\n",
    "subject_train = pd.read_csv(\n",
    "    'UCI HAR Dataset/UCI HAR Dataset/train/subject_train.txt',\n",
    "    header=None\n",
    ")[0]  # Extract as Series\n",
    "\n",
    "# ✅ Load activity labels as a Series\n",
    "y_train = pd.read_csv(\n",
    "    'UCI HAR Dataset/UCI HAR Dataset/train/y_train.txt',\n",
    "    header=None\n",
    ")[0]\n",
    "\n",
    "# ✅ Map activity numbers to labels\n",
    "activity_labels = {\n",
    "    1: 'WALKING',\n",
    "    2: 'WALKING_UPSTAIRS',\n",
    "    3: 'WALKING_DOWNSTAIRS',\n",
    "    4: 'SITTING',\n",
    "    5: 'STANDING',\n",
    "    6: 'LAYING'\n",
    "}\n",
    "y_train_labels = y_train.map(activity_labels)\n",
    "\n",
    "# ✅ Add subject and activity info to the feature DataFrame\n",
    "X_train['subject'] = subject_train\n",
    "X_train['Activity'] = y_train\n",
    "X_train['ActivityName'] = y_train_labels\n",
    "\n",
    "# ✅ Final combined training data\n",
    "train = X_train\n",
    "\n",
    "# ✅ Preview sample\n",
    "train.sample()\n"
   ]
  },
  {
   "cell_type": "code",
   "execution_count": 10,
   "metadata": {},
   "outputs": [
    {
     "data": {
      "text/plain": [
       "(7352, 564)"
      ]
     },
     "execution_count": 10,
     "metadata": {},
     "output_type": "execute_result"
    }
   ],
   "source": [
    "train.shape"
   ]
  },
  {
   "cell_type": "markdown",
   "metadata": {},
   "source": [
    "### Obtain the test data"
   ]
  },
  {
   "cell_type": "code",
   "execution_count": 13,
   "metadata": {
    "scrolled": true
   },
   "outputs": [
    {
     "name": "stderr",
     "output_type": "stream",
     "text": [
      "C:\\Users\\HP\\AppData\\Local\\Temp\\ipykernel_18924\\2664465423.py:4: FutureWarning: The 'delim_whitespace' keyword in pd.read_csv is deprecated and will be removed in a future version. Use ``sep='\\s+'`` instead\n",
      "  X_test = pd.read_csv(\n"
     ]
    },
    {
     "data": {
      "text/html": [
       "<div>\n",
       "<style scoped>\n",
       "    .dataframe tbody tr th:only-of-type {\n",
       "        vertical-align: middle;\n",
       "    }\n",
       "\n",
       "    .dataframe tbody tr th {\n",
       "        vertical-align: top;\n",
       "    }\n",
       "\n",
       "    .dataframe thead th {\n",
       "        text-align: right;\n",
       "    }\n",
       "</style>\n",
       "<table border=\"1\" class=\"dataframe\">\n",
       "  <thead>\n",
       "    <tr style=\"text-align: right;\">\n",
       "      <th></th>\n",
       "      <th>tBodyAcc-mean()-X</th>\n",
       "      <th>tBodyAcc-mean()-Y</th>\n",
       "      <th>tBodyAcc-mean()-Z</th>\n",
       "      <th>tBodyAcc-std()-X</th>\n",
       "      <th>tBodyAcc-std()-Y</th>\n",
       "      <th>tBodyAcc-std()-Z</th>\n",
       "      <th>tBodyAcc-mad()-X</th>\n",
       "      <th>tBodyAcc-mad()-Y</th>\n",
       "      <th>tBodyAcc-mad()-Z</th>\n",
       "      <th>tBodyAcc-max()-X</th>\n",
       "      <th>...</th>\n",
       "      <th>angle(tBodyAccMean,gravity)</th>\n",
       "      <th>angle(tBodyAccJerkMean),gravityMean)</th>\n",
       "      <th>angle(tBodyGyroMean,gravityMean)</th>\n",
       "      <th>angle(tBodyGyroJerkMean,gravityMean)</th>\n",
       "      <th>angle(X,gravityMean)</th>\n",
       "      <th>angle(Y,gravityMean)</th>\n",
       "      <th>angle(Z,gravityMean)</th>\n",
       "      <th>subject</th>\n",
       "      <th>Activity</th>\n",
       "      <th>ActivityName</th>\n",
       "    </tr>\n",
       "  </thead>\n",
       "  <tbody>\n",
       "    <tr>\n",
       "      <th>797</th>\n",
       "      <td>0.247032</td>\n",
       "      <td>-0.018728</td>\n",
       "      <td>-0.090166</td>\n",
       "      <td>-0.953531</td>\n",
       "      <td>-0.929475</td>\n",
       "      <td>-0.926032</td>\n",
       "      <td>-0.969075</td>\n",
       "      <td>-0.93951</td>\n",
       "      <td>-0.942525</td>\n",
       "      <td>-0.845539</td>\n",
       "      <td>...</td>\n",
       "      <td>0.013856</td>\n",
       "      <td>0.100213</td>\n",
       "      <td>-0.14423</td>\n",
       "      <td>0.181581</td>\n",
       "      <td>-0.151913</td>\n",
       "      <td>0.379455</td>\n",
       "      <td>-0.479695</td>\n",
       "      <td>9</td>\n",
       "      <td>4</td>\n",
       "      <td>SITTING</td>\n",
       "    </tr>\n",
       "  </tbody>\n",
       "</table>\n",
       "<p>1 rows × 564 columns</p>\n",
       "</div>"
      ],
      "text/plain": [
       "     tBodyAcc-mean()-X  tBodyAcc-mean()-Y  tBodyAcc-mean()-Z  \\\n",
       "797           0.247032          -0.018728          -0.090166   \n",
       "\n",
       "     tBodyAcc-std()-X  tBodyAcc-std()-Y  tBodyAcc-std()-Z  tBodyAcc-mad()-X  \\\n",
       "797         -0.953531         -0.929475         -0.926032         -0.969075   \n",
       "\n",
       "     tBodyAcc-mad()-Y  tBodyAcc-mad()-Z  tBodyAcc-max()-X  ...  \\\n",
       "797          -0.93951         -0.942525         -0.845539  ...   \n",
       "\n",
       "     angle(tBodyAccMean,gravity)  angle(tBodyAccJerkMean),gravityMean)  \\\n",
       "797                     0.013856                              0.100213   \n",
       "\n",
       "     angle(tBodyGyroMean,gravityMean)  angle(tBodyGyroJerkMean,gravityMean)  \\\n",
       "797                          -0.14423                              0.181581   \n",
       "\n",
       "     angle(X,gravityMean)  angle(Y,gravityMean)  angle(Z,gravityMean)  \\\n",
       "797             -0.151913              0.379455             -0.479695   \n",
       "\n",
       "     subject  Activity  ActivityName  \n",
       "797        9         4       SITTING  \n",
       "\n",
       "[1 rows x 564 columns]"
      ]
     },
     "execution_count": 13,
     "metadata": {},
     "output_type": "execute_result"
    }
   ],
   "source": [
    "import pandas as pd\n",
    "\n",
    "# ✅ Load the test feature data\n",
    "X_test = pd.read_csv(\n",
    "    'UCI HAR Dataset/UCI HAR Dataset/test/X_test.txt',\n",
    "    delim_whitespace=True,\n",
    "    header=None,\n",
    "    names=uniq_features\n",
    ")\n",
    "\n",
    "# ✅ Load subject identifiers as a Series\n",
    "subject_test = pd.read_csv(\n",
    "    'UCI HAR Dataset/UCI HAR Dataset/test/subject_test.txt',\n",
    "    header=None\n",
    ")[0]\n",
    "\n",
    "# ✅ Load activity labels as a Series\n",
    "y_test = pd.read_csv(\n",
    "    'UCI HAR Dataset/UCI HAR Dataset/test/y_test.txt',\n",
    "    header=None\n",
    ")[0]\n",
    "\n",
    "# ✅ Map activity numbers to descriptive names\n",
    "activity_labels = {\n",
    "    1: 'WALKING',\n",
    "    2: 'WALKING_UPSTAIRS',\n",
    "    3: 'WALKING_DOWNSTAIRS',\n",
    "    4: 'SITTING',\n",
    "    5: 'STANDING',\n",
    "    6: 'LAYING'\n",
    "}\n",
    "y_test_labels = y_test.map(activity_labels)\n",
    "\n",
    "# ✅ Combine all data into a single DataFrame\n",
    "X_test['subject'] = subject_test\n",
    "X_test['Activity'] = y_test\n",
    "X_test['ActivityName'] = y_test_labels\n",
    "\n",
    "# ✅ Final test DataFrame\n",
    "test = X_test\n",
    "\n",
    "# ✅ Preview a random row\n",
    "test.sample()\n"
   ]
  },
  {
   "cell_type": "code",
   "execution_count": 14,
   "metadata": {
    "scrolled": true
   },
   "outputs": [
    {
     "data": {
      "text/plain": [
       "(2947, 564)"
      ]
     },
     "execution_count": 14,
     "metadata": {},
     "output_type": "execute_result"
    }
   ],
   "source": [
    "test.shape"
   ]
  },
  {
   "cell_type": "markdown",
   "metadata": {},
   "source": [
    "### 1. Check for Duplicates"
   ]
  },
  {
   "cell_type": "code",
   "execution_count": 15,
   "metadata": {},
   "outputs": [
    {
     "name": "stdout",
     "output_type": "stream",
     "text": [
      "No of duplicates in train: 0\n",
      "No of duplicates in test : 0\n"
     ]
    }
   ],
   "source": [
    "print('No of duplicates in train: {}'.format(sum(train.duplicated())))\n",
    "print('No of duplicates in test : {}'.format(sum(test.duplicated())))"
   ]
  },
  {
   "cell_type": "markdown",
   "metadata": {},
   "source": [
    "### 2. Checking for NaN/null values"
   ]
  },
  {
   "cell_type": "code",
   "execution_count": 16,
   "metadata": {},
   "outputs": [
    {
     "name": "stdout",
     "output_type": "stream",
     "text": [
      "We have 0 NaN/Null values in train\n",
      "We have 0 NaN/Null values in test\n"
     ]
    }
   ],
   "source": [
    "print('We have {} NaN/Null values in train'.format(train.isnull().values.sum()))\n",
    "print('We have {} NaN/Null values in test'.format(test.isnull().values.sum()))"
   ]
  },
  {
   "cell_type": "markdown",
   "metadata": {},
   "source": [
    "### 3. Check for data imbalance"
   ]
  },
  {
   "cell_type": "code",
   "execution_count": 17,
   "metadata": {},
   "outputs": [],
   "source": [
    "sns.set_style('whitegrid')\n",
    "plt.rcParams['font.family'] = 'Dejavu Sans'"
   ]
  },
  {
   "cell_type": "code",
   "execution_count": 18,
   "metadata": {
    "scrolled": false
   },
   "outputs": [
    {
     "data": {
      "image/png": "[encoded data removed]",
      "text/plain": [
       "<Figure size 1600x800 with 1 Axes>"
      ]
     },
     "metadata": {},
     "output_type": "display_data"
    }
   ],
   "source": [
    "plt.figure(figsize=(16,8))\n",
    "plt.title('Data provided by each user', fontsize=20)\n",
    "sns.countplot(x='subject',hue='ActivityName', data = train)\n",
    "plt.show()"
   ]
  },
  {
   "cell_type": "markdown",
   "metadata": {},
   "source": [
    "#### $~~~~~~~~~~~~~~~~~~~~~~~~~~$ We have got almost same number of reading from all the subjects\n",
    "$~~~~~~~~~~~$"
   ]
  },
  {
   "cell_type": "code",
   "execution_count": 19,
   "metadata": {
    "scrolled": false
   },
   "outputs": [
    {
     "data": {
      "image/png": "[encoded data removed]",
      "text/plain": [
       "<Figure size 640x480 with 1 Axes>"
      ]
     },
     "metadata": {},
     "output_type": "display_data"
    }
   ],
   "source": [
    "plt.title('No of Datapoints per Activity', fontsize=15)\n",
    "sns.countplot(train.ActivityName)\n",
    "plt.xticks(rotation=90)\n",
    "plt.show()"
   ]
  },
  {
   "cell_type": "markdown",
   "metadata": {},
   "source": [
    "#### $~~~~~~~~~~~~~~~~~~~~~~~~~$Our data is well balanced (almost)\n",
    "$~~~~~~~~~~~$"
   ]
  },
  {
   "cell_type": "markdown",
   "metadata": {},
   "source": [
    "### 4. Changing feature names"
   ]
  },
  {
   "cell_type": "code",
   "execution_count": 20,
   "metadata": {},
   "outputs": [
    {
     "data": {
      "text/plain": [
       "Index(['tBodyAcc-mean()-X', 'tBodyAcc-mean()-Y', 'tBodyAcc-mean()-Z',\n",
       "       'tBodyAcc-std()-X', 'tBodyAcc-std()-Y', 'tBodyAcc-std()-Z',\n",
       "       'tBodyAcc-mad()-X', 'tBodyAcc-mad()-Y', 'tBodyAcc-mad()-Z',\n",
       "       'tBodyAcc-max()-X',\n",
       "       ...\n",
       "       'angle(tBodyAccMean,gravity)', 'angle(tBodyAccJerkMean),gravityMean)',\n",
       "       'angle(tBodyGyroMean,gravityMean)',\n",
       "       'angle(tBodyGyroJerkMean,gravityMean)', 'angle(X,gravityMean)',\n",
       "       'angle(Y,gravityMean)', 'angle(Z,gravityMean)', 'subject', 'Activity',\n",
       "       'ActivityName'],\n",
       "      dtype='object', length=564)"
      ]
     },
     "execution_count": 20,
     "metadata": {},
     "output_type": "execute_result"
    }
   ],
   "source": [
    "columns = train.columns\n",
    "\n",
    "# Removing '()' from column names\n",
    "columns = columns.str.replace('[()]','')\n",
    "columns = columns.str.replace('[-]', '')\n",
    "columns = columns.str.replace('[,]','')\n",
    "\n",
    "train.columns = columns\n",
    "test.columns = columns\n",
    "\n",
    "test.columns"
   ]
  },
  {
   "cell_type": "markdown",
   "metadata": {},
   "source": [
    "### 5. Save this dataframe in a csv files"
   ]
  },
  {
   "cell_type": "code",
   "execution_count": 22,
   "metadata": {},
   "outputs": [],
   "source": [
    "import os\n",
    "\n",
    "# Create the 'data' directory if it doesn't exist\n",
    "os.makedirs('data', exist_ok=True)\n",
    "\n",
    "# Now save the files\n",
    "train.to_csv('data/train.csv', index=False)\n",
    "test.to_csv('data/test.csv', index=False)\n",
    "\n",
    "\n",
    "train.to_csv('data/train.csv', index=False)\n",
    "test.to_csv('data/test.csv', index=False)"
   ]
  }
 ],
 "metadata": {
  "kernelspec": {
   "display_name": "Python 3",
   "language": "python",
   "name": "python3"
  },
  "language_info": {
   "codemirror_mode": {
    "name": "ipython",
    "version": 3
   },
   "file_extension": ".py",
   "mimetype": "text/x-python",
   "name": "python",
   "nbconvert_exporter": "python",
   "pygments_lexer": "ipython3",
   "version": "3.12.4"
  }
 },
 "nbformat": 4,
 "nbformat_minor": 4
}
